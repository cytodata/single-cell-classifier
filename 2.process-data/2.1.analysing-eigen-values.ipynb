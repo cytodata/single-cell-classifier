{
 "cells": [
  {
   "cell_type": "markdown",
   "metadata": {},
   "outputs": [],
   "source": [
    "# Analysing the eigen values"
   ]
  },
  {
   "cell_type": "code",
   "execution_count": 1,
   "metadata": {},
   "outputs": [],
   "source": [
    "import os\n",
    "import pandas as pd\n",
    "import numpy as np\n",
    "import matplotlib.pyplot as plt"
   ]
  },
  {
   "cell_type": "code",
   "execution_count": 2,
   "metadata": {},
   "outputs": [],
   "source": [
    "train_data = pd.read_csv(os.path.join(\"2.process-data\", \"data\", \"train_eigen_values.tsv.gz\"), sep=\"\\t\")"
   ]
  },
  {
   "cell_type": "code",
   "execution_count": 3,
   "metadata": {},
   "outputs": [
    {
     "data": {
      "text/html": "<div>\n<style scoped>\n    .dataframe tbody tr th:only-of-type {\n        vertical-align: middle;\n    }\n\n    .dataframe tbody tr th {\n        vertical-align: top;\n    }\n\n    .dataframe thead th {\n        text-align: right;\n    }\n</style>\n<table border=\"1\" class=\"dataframe\">\n  <thead>\n    <tr style=\"text-align: right;\">\n      <th></th>\n      <th>cell_codes</th>\n      <th>targets</th>\n      <th>eigen_value_0000</th>\n      <th>eigen_value_0001</th>\n      <th>eigen_value_0002</th>\n      <th>eigen_value_0003</th>\n      <th>eigen_value_0004</th>\n      <th>eigen_value_0005</th>\n      <th>eigen_value_0006</th>\n      <th>eigen_value_0007</th>\n      <th>...</th>\n      <th>eigen_value_1990</th>\n      <th>eigen_value_1991</th>\n      <th>eigen_value_1992</th>\n      <th>eigen_value_1993</th>\n      <th>eigen_value_1994</th>\n      <th>eigen_value_1995</th>\n      <th>eigen_value_1996</th>\n      <th>eigen_value_1997</th>\n      <th>eigen_value_1998</th>\n      <th>eigen_value_1999</th>\n    </tr>\n  </thead>\n  <tbody>\n    <tr>\n      <th>0</th>\n      <td>OaJHcDs2kh</td>\n      <td>adrenoceptor</td>\n      <td>-673.376005</td>\n      <td>226.999512</td>\n      <td>19.856234</td>\n      <td>103.444984</td>\n      <td>0.996551</td>\n      <td>12.435002</td>\n      <td>-34.196611</td>\n      <td>50.171730</td>\n      <td>...</td>\n      <td>0.256675</td>\n      <td>0.036327</td>\n      <td>-1.371034</td>\n      <td>0.522680</td>\n      <td>0.451433</td>\n      <td>0.410545</td>\n      <td>0.766067</td>\n      <td>-0.489929</td>\n      <td>-1.232571</td>\n      <td>-0.181984</td>\n    </tr>\n    <tr>\n      <th>1</th>\n      <td>nwLFF4l070</td>\n      <td>adrenoceptor</td>\n      <td>-353.281628</td>\n      <td>67.610234</td>\n      <td>40.509354</td>\n      <td>36.968020</td>\n      <td>-117.899643</td>\n      <td>-15.106895</td>\n      <td>26.007932</td>\n      <td>16.742913</td>\n      <td>...</td>\n      <td>3.430432</td>\n      <td>3.290681</td>\n      <td>-0.196751</td>\n      <td>-3.199812</td>\n      <td>-1.804525</td>\n      <td>0.431745</td>\n      <td>0.362372</td>\n      <td>-1.270252</td>\n      <td>0.900353</td>\n      <td>0.634628</td>\n    </tr>\n    <tr>\n      <th>2</th>\n      <td>JU4SIplWZ7</td>\n      <td>adrenoceptor</td>\n      <td>-453.525170</td>\n      <td>-20.210653</td>\n      <td>-8.798432</td>\n      <td>-114.629762</td>\n      <td>23.357298</td>\n      <td>-69.579370</td>\n      <td>183.690544</td>\n      <td>91.272990</td>\n      <td>...</td>\n      <td>0.428241</td>\n      <td>2.698377</td>\n      <td>-1.660676</td>\n      <td>-2.651767</td>\n      <td>-0.562801</td>\n      <td>0.601309</td>\n      <td>-0.641914</td>\n      <td>1.162770</td>\n      <td>1.232496</td>\n      <td>0.530883</td>\n    </tr>\n    <tr>\n      <th>3</th>\n      <td>pqkTwaHa2L</td>\n      <td>adrenoceptor</td>\n      <td>-109.195103</td>\n      <td>-450.929925</td>\n      <td>10.205896</td>\n      <td>-232.571440</td>\n      <td>145.289635</td>\n      <td>-88.680688</td>\n      <td>-93.271277</td>\n      <td>51.418426</td>\n      <td>...</td>\n      <td>2.666084</td>\n      <td>5.704673</td>\n      <td>0.720760</td>\n      <td>-3.524865</td>\n      <td>-0.374867</td>\n      <td>2.277353</td>\n      <td>-7.823618</td>\n      <td>-0.688071</td>\n      <td>3.111128</td>\n      <td>0.099316</td>\n    </tr>\n    <tr>\n      <th>4</th>\n      <td>pB2BlQoW94</td>\n      <td>adrenoceptor</td>\n      <td>-559.953099</td>\n      <td>-13.435366</td>\n      <td>47.596790</td>\n      <td>64.147829</td>\n      <td>124.439161</td>\n      <td>41.770136</td>\n      <td>-94.237554</td>\n      <td>11.198108</td>\n      <td>...</td>\n      <td>-1.652867</td>\n      <td>-0.345678</td>\n      <td>-1.024346</td>\n      <td>-1.980020</td>\n      <td>-1.001250</td>\n      <td>0.668047</td>\n      <td>1.713858</td>\n      <td>0.389432</td>\n      <td>-0.276629</td>\n      <td>-0.442717</td>\n    </tr>\n  </tbody>\n</table>\n<p>5 rows × 2002 columns</p>\n</div>",
      "text/plain": "   cell_codes       targets  eigen_value_0000  eigen_value_0001  \\\n0  OaJHcDs2kh  adrenoceptor       -673.376005        226.999512   \n1  nwLFF4l070  adrenoceptor       -353.281628         67.610234   \n2  JU4SIplWZ7  adrenoceptor       -453.525170        -20.210653   \n3  pqkTwaHa2L  adrenoceptor       -109.195103       -450.929925   \n4  pB2BlQoW94  adrenoceptor       -559.953099        -13.435366   \n\n   eigen_value_0002  eigen_value_0003  eigen_value_0004  eigen_value_0005  \\\n0         19.856234        103.444984          0.996551         12.435002   \n1         40.509354         36.968020       -117.899643        -15.106895   \n2         -8.798432       -114.629762         23.357298        -69.579370   \n3         10.205896       -232.571440        145.289635        -88.680688   \n4         47.596790         64.147829        124.439161         41.770136   \n\n   eigen_value_0006  eigen_value_0007  ...  eigen_value_1990  \\\n0        -34.196611         50.171730  ...          0.256675   \n1         26.007932         16.742913  ...          3.430432   \n2        183.690544         91.272990  ...          0.428241   \n3        -93.271277         51.418426  ...          2.666084   \n4        -94.237554         11.198108  ...         -1.652867   \n\n   eigen_value_1991  eigen_value_1992  eigen_value_1993  eigen_value_1994  \\\n0          0.036327         -1.371034          0.522680          0.451433   \n1          3.290681         -0.196751         -3.199812         -1.804525   \n2          2.698377         -1.660676         -2.651767         -0.562801   \n3          5.704673          0.720760         -3.524865         -0.374867   \n4         -0.345678         -1.024346         -1.980020         -1.001250   \n\n   eigen_value_1995  eigen_value_1996  eigen_value_1997  eigen_value_1998  \\\n0          0.410545          0.766067         -0.489929         -1.232571   \n1          0.431745          0.362372         -1.270252          0.900353   \n2          0.601309         -0.641914          1.162770          1.232496   \n3          2.277353         -7.823618         -0.688071          3.111128   \n4          0.668047          1.713858          0.389432         -0.276629   \n\n   eigen_value_1999  \n0         -0.181984  \n1          0.634628  \n2          0.530883  \n3          0.099316  \n4         -0.442717  \n\n[5 rows x 2002 columns]"
     },
     "execution_count": 3,
     "metadata": {},
     "output_type": "execute_result"
    }
   ],
   "source": [
    "train_data.head()"
   ]
  },
  {
   "cell_type": "markdown",
   "metadata": {},
   "outputs": [],
   "source": [
    "## Scatter plot of the first 2 dimensions"
   ]
  },
  {
   "cell_type": "code",
   "execution_count": 4,
   "metadata": {},
   "outputs": [],
   "source": [
    "all_targets = train_data.targets.unique()\n",
    "sample_per_class = 40\n",
    "\n",
    "small_train_data = pd.DataFrame(columns=train_data.columns)\n",
    "targets_mapping = {}\n",
    "for idx, target in enumerate(all_targets):\n",
    "    targets_mapping[target] = idx\n",
    "    small_train_data = pd.concat([small_train_data, train_data.loc[train_data.targets == target].sample(sample_per_class)])\n",
    "\n",
    "color = small_train_data.targets.replace(targets_mapping).to_numpy()\n",
    "\n"
   ]
  },
  {
   "cell_type": "code",
   "execution_count": 5,
   "metadata": {},
   "outputs": [],
   "source": [
    "from matplotlib import cm\n",
    "\n",
    "def create_scatter_plot(\n",
    "    save_location: str,\n",
    "    eigenvalue1: int = 0,\n",
    "    eigenvalue2: int = 1,\n",
    "    sample_per_class: int = 40,\n",
    "    ):\n",
    "\n",
    "    fig, ax = plt.subplots(figsize=(9, 8), dpi=80)\n",
    "    colormap = cm.get_cmap('tab20', 20)\n",
    "\n",
    "    for idx, target in enumerate(all_targets):\n",
    "        targets_mapping[target] = idx\n",
    "        small_train_data = train_data.loc[train_data.targets == target].sample(sample_per_class)\n",
    "        x = small_train_data[\"eigen_value_\"+str(eigenvalue1).zfill(4)]\n",
    "        y = small_train_data[\"eigen_value_\"+str(eigenvalue2).zfill(4)]\n",
    "        color = np.array([colormap(idx)])\n",
    "        ax.scatter(x, y, c=color, label=target,\n",
    "                alpha=0.7, edgecolors='none', cmap='tab20')\n",
    "\n",
    "    ax.legend(loc=\"upper right\", title=\"Classes\")\n",
    "    ax.grid(True)\n",
    "\n",
    "    plt.savefig(os.path.join(save_location, f\"scatterplot_eigen_value_{str(eigenvalue1).zfill(4)}_eigen_value_{str(eigenvalue2).zfill(4)}.png\"))\n",
    "    plt.close(fig)"
   ]
  },
  {
   "cell_type": "markdown",
   "metadata": {},
   "outputs": [],
   "source": [
    "# F-test\n",
    "The f-test (ANOVA) calculates if all classes have the same mean value"
   ]
  },
  {
   "cell_type": "code",
   "execution_count": 6,
   "metadata": {},
   "outputs": [
    {
     "name": "stdout",
     "output_type": "stream",
     "text": "[  0   1   4   5   8  10  12  20  22  24  25  31  32  33  34  40  41  42\n  43  52  53  54  56  73  74  75  76  79  80 119 120 192 295]\n"
    }
   ],
   "source": [
    "from sklearn.feature_selection import f_classif\n",
    "\n",
    "minimum_p = 0.0005\n",
    "\n",
    "fvalues, pvalues = f_classif(train_data.drop(columns=['cell_codes', 'targets']), train_data.targets)\n",
    "independed_eigen = np.where(pvalues < minimum_p)[0]\n",
    "print(independed_eigen)"
   ]
  },
  {
   "cell_type": "code",
   "execution_count": 57,
   "metadata": {},
   "outputs": [],
   "source": [
    "for i in range(0, len(independed_eigen), 2):\n",
    "    if i == len(independed_eigen) -1:\n",
    "        create_scatter_plot(os.path.join(\"2.process-data\", \"results\"), independed_eigen[i], independed_eigen[-1])\n",
    "    else:\n",
    "        create_scatter_plot(os.path.join(\"2.process-data\", \"results\"), independed_eigen[i], independed_eigen[i + 1])"
   ]
  }
 ],
 "metadata": {
  "file_extension": ".py",
  "kernelspec": {
   "display_name": "Python 3",
   "language": "python",
   "name": "python3"
  },
  "language_info": {
   "codemirror_mode": {
    "name": "ipython",
    "version": 3
   },
   "file_extension": ".py",
   "mimetype": "text/x-python",
   "name": "python",
   "nbconvert_exporter": "python",
   "pygments_lexer": "ipython3",
   "version": "3.7.3"
  },
  "mimetype": "text/x-python",
  "name": "python",
  "npconvert_exporter": "python",
  "pygments_lexer": "ipython3",
  "version": 3
 },
 "nbformat": 4,
 "nbformat_minor": 2
}