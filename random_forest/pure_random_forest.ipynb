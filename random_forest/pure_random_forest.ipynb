{
 "nbformat": 4,
 "nbformat_minor": 2,
 "metadata": {
  "language_info": {
   "name": "python",
   "codemirror_mode": {
    "name": "ipython",
    "version": 3
   }
  },
  "orig_nbformat": 2,
  "file_extension": ".py",
  "mimetype": "text/x-python",
  "name": "python",
  "npconvert_exporter": "python",
  "pygments_lexer": "ipython3",
  "version": 3
 },
 "cells": [
  {
   "cell_type": "markdown",
   "execution_count": null,
   "metadata": {},
   "outputs": [],
   "source": [
    "# Random forest\n",
    "Training a random forest purely on the features profieded"
   ]
  },
  {
   "cell_type": "code",
   "execution_count": 1,
   "metadata": {},
   "outputs": [
    {
     "data": {
      "text/html": "<div>\n<style scoped>\n    .dataframe tbody tr th:only-of-type {\n        vertical-align: middle;\n    }\n\n    .dataframe tbody tr th {\n        vertical-align: top;\n    }\n\n    .dataframe thead th {\n        text-align: right;\n    }\n</style>\n<table border=\"1\" class=\"dataframe\">\n  <thead>\n    <tr style=\"text-align: right;\">\n      <th></th>\n      <th>actin.s.area</th>\n      <th>actin.s.perimeter</th>\n      <th>actin.s.radius.mean</th>\n      <th>actin.s.radius.sd</th>\n      <th>actin.s.radius.min</th>\n      <th>actin.s.radius.max</th>\n      <th>actin.b.mean</th>\n      <th>actin.b.sd</th>\n      <th>actin.b.mad</th>\n      <th>actin.b.q005</th>\n      <th>...</th>\n      <th>DNA.h.sen.s3</th>\n      <th>DNA.h.ent.s3</th>\n      <th>DNA.h.dva.s3</th>\n      <th>DNA.h.den.s3</th>\n      <th>DNA.h.f12.s3</th>\n      <th>DNA.h.f13.s3</th>\n      <th>dist.10.nn</th>\n      <th>dist.20.nn</th>\n      <th>dist.30.nn</th>\n      <th>nuclear.displacement</th>\n    </tr>\n  </thead>\n  <tbody>\n    <tr>\n      <td>25535</td>\n      <td>0.015415</td>\n      <td>0.097948</td>\n      <td>0.119467</td>\n      <td>0.094333</td>\n      <td>0.137140</td>\n      <td>0.111499</td>\n      <td>0.175873</td>\n      <td>0.078243</td>\n      <td>0.061116</td>\n      <td>0.172074</td>\n      <td>...</td>\n      <td>0.0</td>\n      <td>0.0</td>\n      <td>0.0</td>\n      <td>0.0</td>\n      <td>0.0</td>\n      <td>0.0</td>\n      <td>0.083050</td>\n      <td>0.091101</td>\n      <td>0.097196</td>\n      <td>0.020164</td>\n    </tr>\n    <tr>\n      <td>42206</td>\n      <td>0.050337</td>\n      <td>0.180970</td>\n      <td>0.217615</td>\n      <td>0.178592</td>\n      <td>0.240402</td>\n      <td>0.218555</td>\n      <td>0.180451</td>\n      <td>0.060682</td>\n      <td>0.040197</td>\n      <td>0.159181</td>\n      <td>...</td>\n      <td>0.0</td>\n      <td>0.0</td>\n      <td>0.0</td>\n      <td>0.0</td>\n      <td>0.0</td>\n      <td>0.0</td>\n      <td>0.106231</td>\n      <td>0.144258</td>\n      <td>0.158105</td>\n      <td>0.066014</td>\n    </tr>\n    <tr>\n      <td>990</td>\n      <td>0.044287</td>\n      <td>0.198694</td>\n      <td>0.195753</td>\n      <td>0.184669</td>\n      <td>0.123583</td>\n      <td>0.179242</td>\n      <td>0.211442</td>\n      <td>0.112281</td>\n      <td>0.071370</td>\n      <td>0.178976</td>\n      <td>...</td>\n      <td>0.0</td>\n      <td>0.0</td>\n      <td>0.0</td>\n      <td>0.0</td>\n      <td>0.0</td>\n      <td>0.0</td>\n      <td>0.239724</td>\n      <td>0.318913</td>\n      <td>0.326728</td>\n      <td>0.034786</td>\n    </tr>\n    <tr>\n      <td>9337</td>\n      <td>0.002196</td>\n      <td>0.037313</td>\n      <td>0.044434</td>\n      <td>0.059352</td>\n      <td>0.029521</td>\n      <td>0.049425</td>\n      <td>0.175882</td>\n      <td>0.094351</td>\n      <td>0.106645</td>\n      <td>0.135613</td>\n      <td>...</td>\n      <td>0.0</td>\n      <td>0.0</td>\n      <td>0.0</td>\n      <td>0.0</td>\n      <td>0.0</td>\n      <td>0.0</td>\n      <td>0.397892</td>\n      <td>0.503309</td>\n      <td>0.503735</td>\n      <td>0.017588</td>\n    </tr>\n    <tr>\n      <td>44955</td>\n      <td>0.039852</td>\n      <td>0.159515</td>\n      <td>0.190545</td>\n      <td>0.151414</td>\n      <td>0.222535</td>\n      <td>0.181675</td>\n      <td>0.251598</td>\n      <td>0.238287</td>\n      <td>0.208368</td>\n      <td>0.080367</td>\n      <td>...</td>\n      <td>0.0</td>\n      <td>0.0</td>\n      <td>0.0</td>\n      <td>0.0</td>\n      <td>0.0</td>\n      <td>0.0</td>\n      <td>0.098748</td>\n      <td>0.105288</td>\n      <td>0.108665</td>\n      <td>0.013408</td>\n    </tr>\n  </tbody>\n</table>\n<p>5 rows × 116 columns</p>\n</div>",
      "text/plain": "       actin.s.area  actin.s.perimeter  actin.s.radius.mean  \\\n25535      0.015415           0.097948             0.119467   \n42206      0.050337           0.180970             0.217615   \n990        0.044287           0.198694             0.195753   \n9337       0.002196           0.037313             0.044434   \n44955      0.039852           0.159515             0.190545   \n\n       actin.s.radius.sd  actin.s.radius.min  actin.s.radius.max  \\\n25535           0.094333            0.137140            0.111499   \n42206           0.178592            0.240402            0.218555   \n990             0.184669            0.123583            0.179242   \n9337            0.059352            0.029521            0.049425   \n44955           0.151414            0.222535            0.181675   \n\n       actin.b.mean  actin.b.sd  actin.b.mad  actin.b.q005  ...  DNA.h.sen.s3  \\\n25535      0.175873    0.078243     0.061116      0.172074  ...           0.0   \n42206      0.180451    0.060682     0.040197      0.159181  ...           0.0   \n990        0.211442    0.112281     0.071370      0.178976  ...           0.0   \n9337       0.175882    0.094351     0.106645      0.135613  ...           0.0   \n44955      0.251598    0.238287     0.208368      0.080367  ...           0.0   \n\n       DNA.h.ent.s3  DNA.h.dva.s3  DNA.h.den.s3  DNA.h.f12.s3  DNA.h.f13.s3  \\\n25535           0.0           0.0           0.0           0.0           0.0   \n42206           0.0           0.0           0.0           0.0           0.0   \n990             0.0           0.0           0.0           0.0           0.0   \n9337            0.0           0.0           0.0           0.0           0.0   \n44955           0.0           0.0           0.0           0.0           0.0   \n\n       dist.10.nn  dist.20.nn  dist.30.nn  nuclear.displacement  \n25535    0.083050    0.091101    0.097196              0.020164  \n42206    0.106231    0.144258    0.158105              0.066014  \n990      0.239724    0.318913    0.326728              0.034786  \n9337     0.397892    0.503309    0.503735              0.017588  \n44955    0.098748    0.105288    0.108665              0.013408  \n\n[5 rows x 116 columns]"
     },
     "execution_count": 1,
     "metadata": {},
     "output_type": "execute_result"
    }
   ],
   "source": [
    "from load_csv import load_csv_features\n",
    "\n",
    "trainData, trainTarget, valData, valLabels = load_csv_features()\n",
    "trainData.head()"
   ]
  },
  {
   "cell_type": "code",
   "execution_count": 2,
   "metadata": {},
   "outputs": [],
   "source": [
    "import os\n",
    "outputResults = os.path.join(\"outputs\", \"randomForest.csv\")"
   ]
  },
  {
   "cell_type": "markdown",
   "execution_count": null,
   "metadata": {},
   "outputs": [],
   "source": [
    "# Training Model"
   ]
  },
  {
   "cell_type": "code",
   "execution_count": 7,
   "metadata": {},
   "outputs": [
    {
     "data": {
      "text/plain": "RandomForestClassifier(bootstrap=True, class_weight=None, criterion='gini',\n                       max_depth=15, max_features='auto', max_leaf_nodes=None,\n                       min_impurity_decrease=0.0, min_impurity_split=None,\n                       min_samples_leaf=1, min_samples_split=2,\n                       min_weight_fraction_leaf=0.0, n_estimators=1000,\n                       n_jobs=None, oob_score=False, random_state=None,\n                       verbose=0, warm_start=False)"
     },
     "execution_count": 7,
     "metadata": {},
     "output_type": "execute_result"
    }
   ],
   "source": [
    "import numpy as np\n",
    "from sklearn.ensemble import RandomForestClassifier\n",
    "RFclf2 = RandomForestClassifier(n_estimators=1000, max_depth=15,\n",
    "                             random_state=None)\n",
    "X = np.array(trainData)\n",
    "Y = np.array(trainTarget)\n",
    "RFclf2.fit(X, Y)"
   ]
  },
  {
   "cell_type": "markdown",
   "execution_count": null,
   "metadata": {},
   "outputs": [],
   "source": [
    "# Validating"
   ]
  },
  {
   "cell_type": "code",
   "execution_count": 10,
   "metadata": {},
   "outputs": [],
   "source": [
    "predictionsRF = RFclf2.predict(valData)"
   ]
  },
  {
   "cell_type": "code",
   "execution_count": 13,
   "metadata": {},
   "outputs": [],
   "source": [
    "allCodes = np.array(valLabels)\n",
    "with open(outputResults, 'w') as file:\n",
    "    file.write(\"cell_code,prediction\\n\")\n",
    "    for p, code in zip(predictionsRF, allCodes):\n",
    "        file.write(f\"{code},{p}\\n\")"
   ]
  }
 ]
}